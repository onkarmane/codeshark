{
 "cells": [
  {
   "cell_type": "markdown",
   "id": "c62e57a9",
   "metadata": {},
   "source": [
    "# What is Matplotlib?\n",
    "Matplotlib is a low level graph plotting library in python that serves as a visualization utility.\n",
    "\n",
    "Matplotlib was created by John D. Hunter.\n",
    "\n",
    "Matplotlib is open source and we can use it freely.\n",
    "\n",
    "Matplotlib is mostly written in python, a few segments are written in C, Objective-C and Javascript for Platform compatibility."
   ]
  },
  {
   "attachments": {
    "matplotlib-tutorial.png": {
     "image/png": "[encoded data removed]"
    }
   },
   "cell_type": "markdown",
   "id": "ef2b651b",
   "metadata": {},
   "source": [
    "![matplotlib-tutorial.png](attachment:matplotlib-tutorial.png)"
   ]
  },
  {
   "cell_type": "markdown",
   "id": "9d23f3e6",
   "metadata": {},
   "source": [
    "# Different types of Plots"
   ]
  },
  {
   "attachments": {
    "matplotlib-allplots.png": {
     "image/png": "[encoded data removed]"
    }
   },
   "cell_type": "markdown",
   "id": "0249b86f",
   "metadata": {},
   "source": [
    "![matplotlib-allplots.png](attachment:matplotlib-allplots.png)"
   ]
  },
  {
   "cell_type": "raw",
   "id": "a0e59fb1",
   "metadata": {},
   "source": [
    "Steps:\n",
    "    Import Library\n",
    "    Create x and y axis\n",
    "    Plot the graph"
   ]
  },
  {
   "cell_type": "code",
   "execution_count": null,
   "id": "e7ed2091",
   "metadata": {},
   "outputs": [],
   "source": [
    "# Line Plot\n",
    "import matplotlib.pyplot as plt\n",
    "\n",
    "import numpy as np\n",
    "\n",
    "x = np.array([0, 6])\n",
    "y = np.array([0, 250])\n",
    "z = np.array([5,60])\n",
    "plt.plot(x,y)\n",
    "plt.plot(x,z)\n",
    "\n",
    "# Adding the legends\n",
    "plt.legend([\"x and y\", \"x and z\"])\n",
    "plt.show()\n"
   ]
  },
  {
   "cell_type": "code",
   "execution_count": null,
   "id": "4656e61e",
   "metadata": {},
   "outputs": [],
   "source": [
    "# Multiple Plots"
   ]
  },
  {
   "cell_type": "code",
   "execution_count": null,
   "id": "e6857a37",
   "metadata": {},
   "outputs": [],
   "source": [
    "import matplotlib.pyplot as plt\n",
    "import numpy as np\n",
    "\n",
    "#plot 1:\n",
    "x = np.array([0, 1, 2, 3])\n",
    "y = np.array([3, 8, 1, 10])\n",
    "\n",
    "plt.subplot(1, 2, 1)\n",
    "plt.plot(x,y)\n",
    "plt.legend([\"x and y\"])\n",
    "\n",
    "\n",
    "#plot 2:\n",
    "m = np.array([0, 1, 2, 3])\n",
    "n = np.array([10, 20, 30, 40])\n",
    "\n",
    "plt.subplot(1, 2, 2)\n",
    "plt.plot(m,n)\n",
    "plt.legend([\"m and n\"])\n",
    "plt.show()"
   ]
  },
  {
   "cell_type": "code",
   "execution_count": null,
   "id": "e487195d",
   "metadata": {},
   "outputs": [],
   "source": [
    "# Scatter Plot"
   ]
  },
  {
   "cell_type": "code",
   "execution_count": null,
   "id": "5e2184bc",
   "metadata": {},
   "outputs": [],
   "source": [
    "import matplotlib.pyplot as plt\n",
    "import numpy as np\n",
    "\n",
    "x = np.array([5,7,8,7,2,17,2,9,4,11,12,9,6])\n",
    "y = np.array([99,86,87,88,111,86,103,87,94,78,77,85,86])\n",
    "\n",
    "plt.scatter(x, y)\n",
    "plt.show()"
   ]
  },
  {
   "cell_type": "code",
   "execution_count": null,
   "id": "9e400e59",
   "metadata": {},
   "outputs": [],
   "source": [
    "# Bar Plot\n",
    "import matplotlib.pyplot as plt\n",
    "import numpy as np\n",
    "\n",
    "x = np.array([\"A\", \"B\", \"C\", \"D\"])\n",
    "y = np.array([3, 8, 1, 10])\n",
    "\n",
    "plt.bar(x,y)\n",
    "plt.show()"
   ]
  },
  {
   "cell_type": "code",
   "execution_count": null,
   "id": "09f0fdd8",
   "metadata": {},
   "outputs": [],
   "source": [
    "# Pie Chart"
   ]
  },
  {
   "cell_type": "code",
   "execution_count": null,
   "id": "6b2f1996",
   "metadata": {},
   "outputs": [],
   "source": [
    "import matplotlib.pyplot as plt\n",
    "import numpy as np\n",
    "\n",
    "y = np.array([25, 25, 25, 25])\n",
    "\n",
    "plt.pie(y)\n",
    "plt.show() "
   ]
  },
  {
   "cell_type": "code",
   "execution_count": null,
   "id": "5c5969cf",
   "metadata": {},
   "outputs": [],
   "source": []
  }
 ],
 "metadata": {
  "kernelspec": {
   "display_name": "Python 3 (ipykernel)",
   "language": "python",
   "name": "python3"
  },
  "language_info": {
   "codemirror_mode": {
    "name": "ipython",
    "version": 3
   },
   "file_extension": ".py",
   "mimetype": "text/x-python",
   "name": "python",
   "nbconvert_exporter": "python",
   "pygments_lexer": "ipython3",
   "version": "3.10.11"
  }
 },
 "nbformat": 4,
 "nbformat_minor": 5
}

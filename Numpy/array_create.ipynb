{
 "cells": [
  {
   "cell_type": "markdown",
   "id": "2fc020a5",
   "metadata": {},
   "source": [
    "# Array"
   ]
  },
  {
   "cell_type": "code",
   "execution_count": null,
   "id": "8621f172",
   "metadata": {},
   "outputs": [],
   "source": [
    "import numpy as np"
   ]
  },
  {
   "cell_type": "code",
   "execution_count": null,
   "id": "b1e185a7",
   "metadata": {},
   "outputs": [],
   "source": [
    "# Method 1\n",
    "np.array([[1,2],[3,4]])\n"
   ]
  },
  {
   "cell_type": "code",
   "execution_count": null,
   "id": "98b1d37d",
   "metadata": {},
   "outputs": [],
   "source": [
    "# Method 2\n",
    "np.arange(10)\n"
   ]
  },
  {
   "cell_type": "markdown",
   "id": "78f3b936",
   "metadata": {},
   "source": [
    "# Making arrays with specific numbers\n"
   ]
  },
  {
   "cell_type": "code",
   "execution_count": null,
   "id": "cbb3d2fc",
   "metadata": {},
   "outputs": [],
   "source": [
    "# Defining arrays: np.zeros, np.ones, np.full"
   ]
  },
  {
   "cell_type": "code",
   "execution_count": null,
   "id": "9ff3481d",
   "metadata": {},
   "outputs": [],
   "source": [
    "np.zeros((3,1))\n"
   ]
  },
  {
   "cell_type": "code",
   "execution_count": null,
   "id": "2dfe414a",
   "metadata": {},
   "outputs": [],
   "source": [
    "np.ones((3, 1))\n"
   ]
  },
  {
   "cell_type": "code",
   "execution_count": null,
   "id": "ec8ba74e",
   "metadata": {},
   "outputs": [],
   "source": [
    "np.full((3,3),10)\n"
   ]
  },
  {
   "cell_type": "markdown",
   "id": "63421bac",
   "metadata": {},
   "source": [
    "# Array shape\n"
   ]
  },
  {
   "cell_type": "code",
   "execution_count": null,
   "id": "eda75c8b",
   "metadata": {},
   "outputs": [],
   "source": [
    "vector = np.arange(5)\n",
    "print(vector)\n",
    "print(\"Vector shape:\", vector.shape)\n",
    "\n"
   ]
  },
  {
   "cell_type": "code",
   "execution_count": null,
   "id": "cffb1004",
   "metadata": {},
   "outputs": [],
   "source": [
    "matrix = np.ones([3, 2])\n",
    "print(matrix)\n",
    "print(\"Matrix shape:\", matrix.shape)\n",
    "\n"
   ]
  },
  {
   "cell_type": "code",
   "execution_count": null,
   "id": "5018d9ce",
   "metadata": {},
   "outputs": [],
   "source": [
    "tensor = np.zeros([3, 3, 3])\n",
    "print(tensor)\n",
    "print(\"Tensor shape:\", tensor.shape)"
   ]
  },
  {
   "cell_type": "markdown",
   "id": "6a62c324",
   "metadata": {},
   "source": [
    "# Reshaping"
   ]
  },
  {
   "cell_type": "code",
   "execution_count": null,
   "id": "dd80ba80",
   "metadata": {},
   "outputs": [],
   "source": [
    "arr = np.arange(1, 10)\n",
    "print(arr, '\\n')\n"
   ]
  },
  {
   "cell_type": "code",
   "execution_count": null,
   "id": "222b3ece",
   "metadata": {},
   "outputs": [],
   "source": [
    "# Reshape to 3x3 matrix\n",
    "arr = arr.reshape(3, 3)\n",
    "print(arr, '\\n')"
   ]
  },
  {
   "cell_type": "code",
   "execution_count": null,
   "id": "eb442507",
   "metadata": {},
   "outputs": [],
   "source": [
    "# Reshape back to the original size\n",
    "arr = arr.reshape(9)\n",
    "print(arr)"
   ]
  },
  {
   "cell_type": "code",
   "execution_count": null,
   "id": "fbd85968",
   "metadata": {},
   "outputs": [],
   "source": []
  }
 ],
 "metadata": {
  "kernelspec": {
   "display_name": "Python 3 (ipykernel)",
   "language": "python",
   "name": "python3"
  },
  "language_info": {
   "codemirror_mode": {
    "name": "ipython",
    "version": 3
   },
   "file_extension": ".py",
   "mimetype": "text/x-python",
   "name": "python",
   "nbconvert_exporter": "python",
   "pygments_lexer": "ipython3",
   "version": "3.10.11"
  }
 },
 "nbformat": 4,
 "nbformat_minor": 5
}

{
 "cells": [
  {
   "cell_type": "markdown",
   "id": "37662eb4",
   "metadata": {},
   "source": [
    "# Pandas missing value operations"
   ]
  },
  {
   "cell_type": "raw",
   "id": "7226363c",
   "metadata": {},
   "source": [
    "isnull()\n",
    "notnull()\n",
    "dropna()\n",
    "fillna()\n",
    "replace()\n"
   ]
  },
  {
   "cell_type": "markdown",
   "id": "47c6e6c7",
   "metadata": {},
   "source": [
    "# isnull()"
   ]
  },
  {
   "cell_type": "raw",
   "id": "eb324fe7",
   "metadata": {},
   "source": [
    "In order to check null values in Pandas DataFrame, we use isnull() function this function return dataframe of Boolean values which are True for NaN values."
   ]
  },
  {
   "cell_type": "code",
   "execution_count": null,
   "id": "f1b050c7",
   "metadata": {},
   "outputs": [],
   "source": [
    "import pandas as pd\n",
    "import numpy as np\n"
   ]
  },
  {
   "cell_type": "code",
   "execution_count": null,
   "id": "36c979d1",
   "metadata": {},
   "outputs": [],
   "source": [
    "# importing pandas as pd\n",
    "import pandas as pd\n",
    "\n",
    "# dictionary of lists\n",
    "dict = {'First Score':[100, 90, np.nan, 95],\n",
    "\t\t'Second Score': [30, 45, 56, np.nan],\n",
    "\t\t'Third Score':[np.nan, 40, 80, 98]}\n",
    "\n",
    "# creating a dataframe from list\n",
    "df = pd.DataFrame(dict)\n",
    "df"
   ]
  },
  {
   "cell_type": "code",
   "execution_count": null,
   "id": "13787637",
   "metadata": {},
   "outputs": [],
   "source": [
    "# using isnull() function\n",
    "df.isnull()"
   ]
  },
  {
   "cell_type": "markdown",
   "id": "5b537f2f",
   "metadata": {},
   "source": [
    "# notnull()"
   ]
  },
  {
   "cell_type": "raw",
   "id": "6a5cf2e8",
   "metadata": {},
   "source": [
    "In order to check null values in Pandas Dataframe, we use notnull() function this function return dataframe of Boolean values which are False for NaN values."
   ]
  },
  {
   "cell_type": "code",
   "execution_count": null,
   "id": "aba332f1",
   "metadata": {},
   "outputs": [],
   "source": [
    "# importing pandas as pd\n",
    "import pandas as pd\n",
    "\n",
    "# dictionary of lists\n",
    "dict = {'First Score':[100, 90, np.nan, 95],\n",
    "\t\t'Second Score': [30, 45, 56, np.nan],\n",
    "\t\t'Third Score':[np.nan, 40, 80, 98]}\n",
    "\n",
    "# creating a dataframe using dictionary\n",
    "df = pd.DataFrame(dict)\n",
    "df\n"
   ]
  },
  {
   "cell_type": "code",
   "execution_count": null,
   "id": "eb022d3a",
   "metadata": {},
   "outputs": [],
   "source": [
    "# using notnull() function\n",
    "df.notnull()\n"
   ]
  },
  {
   "cell_type": "markdown",
   "id": "060c32cd",
   "metadata": {},
   "source": [
    "# fillna() replace()"
   ]
  },
  {
   "cell_type": "raw",
   "id": "7f8586e4",
   "metadata": {},
   "source": [
    "In order to fill null values in a datasets, we use fillna() and replace() function these function replace NaN values with some value of their own."
   ]
  },
  {
   "cell_type": "code",
   "execution_count": null,
   "id": "d527b9f3",
   "metadata": {},
   "outputs": [],
   "source": [
    "# importing pandas as pd\n",
    "import pandas as pd\n",
    "\n",
    "\n",
    "# dictionary of lists\n",
    "dict = {'First Score':[100, 90, np.nan, 95],\n",
    "\t\t'Second Score': [30, 45, 56, np.nan],\n",
    "\t\t'Third Score':[np.nan, 40, 80, 98]}\n",
    "\n",
    "# creating a dataframe from dictionary\n",
    "df = pd.DataFrame(dict)\n",
    "\n",
    "df"
   ]
  },
  {
   "cell_type": "code",
   "execution_count": null,
   "id": "7863b058",
   "metadata": {},
   "outputs": [],
   "source": [
    "\n",
    "# filling missing value using fillna()\n",
    "df.fillna(0)"
   ]
  },
  {
   "cell_type": "markdown",
   "id": "c5c9fd71",
   "metadata": {},
   "source": [
    "# Filling null values with the previous ones \n",
    "\n"
   ]
  },
  {
   "cell_type": "code",
   "execution_count": null,
   "id": "031a4fe3",
   "metadata": {},
   "outputs": [],
   "source": [
    "# importing pandas as pd\n",
    "import pandas as pd\n",
    "\n",
    "# dictionary of lists\n",
    "dict = {'First Score':[100, 90, np.nan, 95],\n",
    "\t\t'Second Score': [30, 45, 56, np.nan],\n",
    "\t\t'Third Score':[np.nan, 40, 80, 98]}\n",
    "\n",
    "# creating a dataframe from dictionary\n",
    "df = pd.DataFrame(dict)\n",
    "\n",
    "df\n"
   ]
  },
  {
   "cell_type": "code",
   "execution_count": null,
   "id": "5d9b26fb",
   "metadata": {},
   "outputs": [],
   "source": [
    "# filling a missing value with\n",
    "# previous ones\n",
    "df.fillna(method ='pad')"
   ]
  },
  {
   "cell_type": "code",
   "execution_count": null,
   "id": "76c43037",
   "metadata": {},
   "outputs": [],
   "source": [
    "# filling  null value using fillna() function  with next value\n",
    "df.fillna(method ='bfill')"
   ]
  },
  {
   "cell_type": "code",
   "execution_count": null,
   "id": "6b622d6d",
   "metadata": {},
   "outputs": [],
   "source": [
    "# Replace"
   ]
  },
  {
   "cell_type": "code",
   "execution_count": null,
   "id": "5fb68327",
   "metadata": {},
   "outputs": [],
   "source": [
    "# importing pandas package\n",
    "import pandas as pd\n",
    "# dictionary of lists\n",
    "dict = {'First Score':[100, 90, np.nan, 95],\n",
    "\t\t'Second Score': [30, 45, 56, np.nan],\n",
    "\t\t'Third Score':[np.nan, 40, 80, 98]}\n",
    "\n",
    "# creating a dataframe from dictionary\n",
    "df = pd.DataFrame(dict)\n",
    "\n",
    "df\n",
    "\n"
   ]
  },
  {
   "cell_type": "code",
   "execution_count": null,
   "id": "907f26fd",
   "metadata": {},
   "outputs": [],
   "source": [
    "\n",
    "# will replace Nan value in dataframe with value -99\n",
    "df.replace(to_replace = np.nan, value = -99)"
   ]
  },
  {
   "cell_type": "code",
   "execution_count": null,
   "id": "cf0bce96",
   "metadata": {},
   "outputs": [],
   "source": []
  },
  {
   "cell_type": "markdown",
   "id": "52ceeabb",
   "metadata": {},
   "source": [
    "# Dropping missing values using dropna()\n"
   ]
  },
  {
   "cell_type": "code",
   "execution_count": null,
   "id": "bffdcdbf",
   "metadata": {},
   "outputs": [],
   "source": [
    "# importing pandas as pd\n",
    "import pandas as pd\n",
    "\n",
    "# dictionary of lists\n",
    "dict = {'First Score':[100, np.nan, np.nan, 95],\n",
    "\t\t'Second Score': [30, np.nan, 45, 56],\n",
    "\t\t'Third Score':[52, np.nan, 80, 98],\n",
    "\t\t'Fourth Score':[60, 67, 68, 65]}\n",
    "\n",
    "# creating a dataframe from dictionary\n",
    "df = pd.DataFrame(dict)\n",
    "\n",
    "df"
   ]
  },
  {
   "cell_type": "code",
   "execution_count": null,
   "id": "23f23315",
   "metadata": {},
   "outputs": [],
   "source": [
    "# Dropping axis 0 >>> along rows"
   ]
  },
  {
   "cell_type": "code",
   "execution_count": null,
   "id": "570411ff",
   "metadata": {},
   "outputs": [],
   "source": [
    "# using dropna() function\t\n",
    "df.dropna(axis = 0)\n"
   ]
  },
  {
   "cell_type": "code",
   "execution_count": null,
   "id": "43a4e7c5",
   "metadata": {},
   "outputs": [],
   "source": [
    "# Dropping axis 1 >>> along columns"
   ]
  },
  {
   "cell_type": "code",
   "execution_count": null,
   "id": "bfdabe88",
   "metadata": {},
   "outputs": [],
   "source": [
    "df.dropna(axis = 1)\n"
   ]
  },
  {
   "cell_type": "code",
   "execution_count": null,
   "id": "94e123df",
   "metadata": {},
   "outputs": [],
   "source": []
  },
  {
   "cell_type": "code",
   "execution_count": null,
   "id": "cb1698be",
   "metadata": {},
   "outputs": [],
   "source": []
  }
 ],
 "metadata": {
  "kernelspec": {
   "display_name": "Python 3 (ipykernel)",
   "language": "python",
   "name": "python3"
  },
  "language_info": {
   "codemirror_mode": {
    "name": "ipython",
    "version": 3
   },
   "file_extension": ".py",
   "mimetype": "text/x-python",
   "name": "python",
   "nbconvert_exporter": "python",
   "pygments_lexer": "ipython3",
   "version": "3.10.11"
  }
 },
 "nbformat": 4,
 "nbformat_minor": 5
}

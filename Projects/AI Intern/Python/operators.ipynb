{
 "cells": [
  {
   "cell_type": "markdown",
   "id": "8b08e570",
   "metadata": {},
   "source": [
    "# 1. Python Arithmetic Operators\n"
   ]
  },
  {
   "cell_type": "markdown",
   "id": "19c98a59",
   "metadata": {},
   "source": [
    "#Operator\tOperation\tExample\n",
    "+\tAddition\t5 + 2 = 7\n",
    "-\tSubtraction\t4 - 2 = 2\n",
    "*\tMultiplication\t2 * 3 = 6\n",
    "/\tDivision\t4 / 2 = 2\n",
    "//\tFloor Division\t10 // 3 = 3\n",
    "%\tModulo\t5 % 2 = 1\n",
    "**\tPower\t4 ** 2 = 16"
   ]
  },
  {
   "cell_type": "code",
   "execution_count": null,
   "id": "0345a2ad",
   "metadata": {},
   "outputs": [],
   "source": [
    "a = 7\n",
    "b = 2\n",
    "\n",
    "# addition\n",
    "print ('Sum: ', a + b)  \n",
    "\n",
    "# subtraction\n",
    "print ('Subtraction: ', a - b)   \n",
    "\n",
    "# multiplication\n",
    "print ('Multiplication: ', a * b)  \n",
    "\n",
    "# division\n",
    "print ('Division: ', a / b) \n",
    "\n",
    "# floor division\n",
    "print ('Floor Division: ', a // b)\n",
    "\n",
    "# modulo\n",
    "print ('Modulo: ', a % b)  \n",
    "\n",
    "# a to the power b\n",
    "print ('Power: ', a ** b)   "
   ]
  },
  {
   "cell_type": "markdown",
   "id": "77fe62e2",
   "metadata": {},
   "source": [
    "# 2. Python Assignment Operators"
   ]
  },
  {
   "cell_type": "markdown",
   "id": "3150afcd",
   "metadata": {},
   "source": [
    "Operator\tName\tExample\n",
    "=\tAssignment Operator\ta = 7\n",
    "+=\tAddition Assignment\ta += 1 # a = a + 1\n",
    "-=\tSubtraction Assignment\ta -= 3 # a = a - 3\n",
    "*=\tMultiplication Assignment\ta *= 4 # a = a * 4\n",
    "/=\tDivision Assignment\ta /= 3 # a = a / 3\n",
    "%=\tRemainder Assignment\ta %= 10 # a = a % 10\n",
    "**=\tExponent Assignment\ta **= 10 # a = a ** 10"
   ]
  },
  {
   "cell_type": "markdown",
   "id": "abe4e182",
   "metadata": {},
   "source": [
    "# 3. Python Comparison Operators"
   ]
  },
  {
   "cell_type": "markdown",
   "id": "6a73a9ff",
   "metadata": {},
   "source": [
    "Operator\tMeaning\tExample\n",
    "==\tIs Equal To\t3 == 5 gives us False\n",
    "!=\tNot Equal To\t3 != 5 gives us True\n",
    ">\tGreater Than\t3 > 5 gives us False\n",
    "<\tLess Than\t3 < 5 gives us True\n",
    ">=\tGreater Than or Equal To\t3 >= 5 give us False\n",
    "<=\tLess Than or Equal To\t3 <= 5 gives us True"
   ]
  },
  {
   "cell_type": "markdown",
   "id": "4ad0d4fa",
   "metadata": {},
   "source": [
    "# 4. Python Logical Operators\n"
   ]
  },
  {
   "cell_type": "markdown",
   "id": "aa2c1f58",
   "metadata": {},
   "source": [
    "Operator\tExample\tMeaning\n",
    "and\ta and b\tLogical AND:\n",
    "\n",
    "\t\t\t\t\tTrue only if both the operands are True\n",
    "or\ta or b\tLogical OR:\n",
    "\n",
    "\t\t\t\t\tTrue if at least one of the operands is True\n",
    "not\tnot a\tLogical NOT:\n",
    "\n",
    "\t\t\t\t\tTrue if the operand is False and vice-versa."
   ]
  },
  {
   "cell_type": "markdown",
   "id": "9e7b1ab6",
   "metadata": {},
   "source": [
    "# 5. Python Bitwise operators\n"
   ]
  },
  {
   "cell_type": "markdown",
   "id": "1416bf06",
   "metadata": {},
   "source": [
    "Operator\tMeaning\tExample\n",
    "&\tBitwise AND\tx & y = 0 (0000 0000)\n",
    "|\tBitwise OR\tx | y = 14 (0000 1110)\n",
    "~\tBitwise NOT\t~x = -11 (1111 0101)\n",
    "^\tBitwise XOR\tx ^ y = 14 (0000 1110)\n",
    ">>\tBitwise right shift\tx >> 2 = 2 (0000 0010)\n",
    "<<\tBitwise left shift\tx << 2 = 40 (0010 1000)"
   ]
  }
 ],
 "metadata": {
  "kernelspec": {
   "display_name": "Python 3 (ipykernel)",
   "language": "python",
   "name": "python3"
  },
  "language_info": {
   "codemirror_mode": {
    "name": "ipython",
    "version": 3
   },
   "file_extension": ".py",
   "mimetype": "text/x-python",
   "name": "python",
   "nbconvert_exporter": "python",
   "pygments_lexer": "ipython3",
   "version": "3.10.11"
  }
 },
 "nbformat": 4,
 "nbformat_minor": 5
}

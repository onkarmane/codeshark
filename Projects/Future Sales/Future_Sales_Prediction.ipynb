{
 "cells": [
  {
   "cell_type": "markdown",
   "id": "12217027",
   "metadata": {},
   "source": [
    "Predicting the future sales of a product helps a business manage the manufacturing and advertising cost of the product. There are many more benefits of predicting the future sales of a product. "
   ]
  },
  {
   "cell_type": "markdown",
   "id": "0f051c7f",
   "metadata": {},
   "source": [
    "The dataset given here contains the data about the sales of the product. The dataset is about the advertising cost incurred by the business on various advertising platforms."
   ]
  },
  {
   "cell_type": "markdown",
   "id": "7e1a5929",
   "metadata": {},
   "source": [
    "1. TV: Advertising cost spent in dollars for advertising on TV;\n",
    "2. Radio: Advertising cost spent in dollars for advertising on Radio;\n",
    "3. Newspaper: Advertising cost spent in dollars for advertising on Newspaper;\n",
    "4. Sales: Number of units sold;"
   ]
  },
  {
   "cell_type": "markdown",
   "id": "930a607b",
   "metadata": {},
   "source": [
    "# Start the project\n"
   ]
  },
  {
   "cell_type": "code",
   "execution_count": null,
   "id": "e8ef8825",
   "metadata": {},
   "outputs": [],
   "source": [
    "import pandas as pd\n",
    "import numpy as np\n",
    "from sklearn.model_selection import train_test_split\n",
    "from sklearn.linear_model import LinearRegression"
   ]
  },
  {
   "cell_type": "code",
   "execution_count": null,
   "id": "6149195c",
   "metadata": {},
   "outputs": [],
   "source": [
    "data = pd.read_csv('sales.csv')"
   ]
  },
  {
   "cell_type": "code",
   "execution_count": null,
   "id": "e778581c",
   "metadata": {},
   "outputs": [],
   "source": [
    "data"
   ]
  },
  {
   "cell_type": "code",
   "execution_count": null,
   "id": "5c7136ca",
   "metadata": {},
   "outputs": [],
   "source": [
    "data.tail()"
   ]
  },
  {
   "cell_type": "code",
   "execution_count": null,
   "id": "38fd483f",
   "metadata": {},
   "outputs": [],
   "source": [
    "data.isnull()"
   ]
  },
  {
   "cell_type": "code",
   "execution_count": null,
   "id": "1adb7814",
   "metadata": {},
   "outputs": [],
   "source": [
    "data.isnull().sum()"
   ]
  },
  {
   "cell_type": "markdown",
   "id": "28d16c86",
   "metadata": {},
   "source": [
    "# Plot the data"
   ]
  },
  {
   "cell_type": "code",
   "execution_count": null,
   "id": "df18252e",
   "metadata": {},
   "outputs": [],
   "source": [
    "import matplotlib.pyplot as plt"
   ]
  },
  {
   "cell_type": "code",
   "execution_count": null,
   "id": "ecdac988",
   "metadata": {},
   "outputs": [],
   "source": [
    "# Create a scatter plot\n",
    "plt.scatter(data[\"Sales\"], data[\"TV\"], s=data[\"TV\"], alpha=0.6)\n",
    "# Set plot labels and title\n",
    "plt.xlabel(\"Sales\")\n",
    "plt.ylabel(\"TV\")\n",
    "plt.title(\"Scatter Plot with Trendline\")"
   ]
  },
  {
   "cell_type": "code",
   "execution_count": null,
   "id": "fb20e4c0",
   "metadata": {},
   "outputs": [],
   "source": [
    "data.columns"
   ]
  },
  {
   "cell_type": "code",
   "execution_count": null,
   "id": "5f461cb8",
   "metadata": {},
   "outputs": [],
   "source": [
    "# Create a scatter plot\n",
    "plt.scatter(data[\"Sales\"], data[\"Radio\"], s=data[\"Radio\"], alpha=0.6)\n",
    "# Set plot labels and title\n",
    "plt.xlabel(\"Sales\")\n",
    "plt.ylabel(\"Radio\")\n",
    "plt.title(\"Scatter Plot with Trendline\")"
   ]
  },
  {
   "cell_type": "code",
   "execution_count": null,
   "id": "dcf79a6e",
   "metadata": {},
   "outputs": [],
   "source": [
    "# Create a scatter plot\n",
    "plt.scatter(data[\"Sales\"], data[\"Newspaper\"], s=data[\"Radio\"], alpha=0.6)\n",
    "# Set plot labels and title\n",
    "plt.xlabel(\"Sales\")\n",
    "plt.ylabel(\"Newspaper\")\n",
    "plt.title(\"Scatter Plot with Trendline\")"
   ]
  },
  {
   "cell_type": "markdown",
   "id": "e3c25a8a",
   "metadata": {},
   "source": [
    "Out of all the amount spent on advertising on various platforms, We can see that the amount spent on advertising the product on TV results in more sales of the product. "
   ]
  },
  {
   "cell_type": "code",
   "execution_count": null,
   "id": "ce46792b",
   "metadata": {},
   "outputs": [],
   "source": [
    "# Find the co-relation"
   ]
  },
  {
   "cell_type": "code",
   "execution_count": null,
   "id": "498f775f",
   "metadata": {},
   "outputs": [],
   "source": [
    "correlation = data.corr()\n",
    "print(correlation[\"Sales\"].sort_values(ascending=False))"
   ]
  },
  {
   "cell_type": "markdown",
   "id": "000c3119",
   "metadata": {},
   "source": [
    "# Future Sales Prediction Model\n"
   ]
  },
  {
   "cell_type": "code",
   "execution_count": null,
   "id": "b566ba78",
   "metadata": {},
   "outputs": [],
   "source": [
    "# Remove X i.e features from target\n",
    "x = np.array(data.drop([\"Sales\"], 1))\n",
    "y = np.array(data[\"Sales\"])\n",
    "xtrain, xtest, ytrain, ytest = train_test_split(x, y, \n",
    "                                                test_size=0.2, \n",
    "                                                random_state=42)"
   ]
  },
  {
   "cell_type": "code",
   "execution_count": null,
   "id": "14a3dddc",
   "metadata": {},
   "outputs": [],
   "source": [
    "x"
   ]
  },
  {
   "cell_type": "code",
   "execution_count": null,
   "id": "dfe6a557",
   "metadata": {},
   "outputs": [],
   "source": [
    "# Declare the model\n",
    "model = LinearRegression()"
   ]
  },
  {
   "cell_type": "code",
   "execution_count": null,
   "id": "e7b359bc",
   "metadata": {},
   "outputs": [],
   "source": [
    "#Train the model \n",
    "model.fit(xtrain, ytrain)"
   ]
  },
  {
   "cell_type": "code",
   "execution_count": null,
   "id": "3c5cf5d4",
   "metadata": {},
   "outputs": [],
   "source": [
    "# Find the accuracy\n",
    "\n",
    "print(model.score(xtest, ytest))"
   ]
  },
  {
   "cell_type": "code",
   "execution_count": null,
   "id": "6eff590c",
   "metadata": {},
   "outputs": [],
   "source": [
    "# Test with Single value"
   ]
  },
  {
   "cell_type": "code",
   "execution_count": null,
   "id": "d994eca3",
   "metadata": {},
   "outputs": [],
   "source": [
    "#features = [[TV, Radio, Newspaper]]\n",
    "features = np.array([[230.1, 37.8, 69.2]])\n",
    "print(model.predict(features))"
   ]
  },
  {
   "cell_type": "markdown",
   "id": "e4144500",
   "metadata": {},
   "source": [
    "So this is how we can train a machine learning model to predict the future sales of a product. Predicting the future sales of a product helps a business manage the manufacturing and advertising cost of the product. "
   ]
  },
  {
   "cell_type": "code",
   "execution_count": null,
   "id": "8d7946bf",
   "metadata": {},
   "outputs": [],
   "source": []
  }
 ],
 "metadata": {
  "kernelspec": {
   "display_name": "Python 3 (ipykernel)",
   "language": "python",
   "name": "python3"
  },
  "language_info": {
   "codemirror_mode": {
    "name": "ipython",
    "version": 3
   },
   "file_extension": ".py",
   "mimetype": "text/x-python",
   "name": "python",
   "nbconvert_exporter": "python",
   "pygments_lexer": "ipython3",
   "version": "3.10.11"
  }
 },
 "nbformat": 4,
 "nbformat_minor": 5
}

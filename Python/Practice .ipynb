{
 "cells": [
  {
   "cell_type": "markdown",
   "id": "ddbae2f2",
   "metadata": {},
   "source": [
    "# Practice questions "
   ]
  },
  {
   "cell_type": "raw",
   "id": "8d9f66d8",
   "metadata": {},
   "source": [
    "1. Write a program in Python language that asks the user to enter their name and display their name with a welcome message!"
   ]
  },
  {
   "cell_type": "markdown",
   "id": "067ff050",
   "metadata": {},
   "source": [
    "2. Write a program in Python that asks the user to enter two numbers a and b and display their sum: a + b\n",
    "\n"
   ]
  },
  {
   "cell_type": "markdown",
   "id": "ff067342",
   "metadata": {},
   "source": [
    "3. Write a program in Python that asks the user to enter two numbers a and b and display their maximum.\n",
    "\n"
   ]
  },
  {
   "cell_type": "markdown",
   "id": "a9cd1952",
   "metadata": {},
   "source": [
    "4. Write a program in Python that displays the first 100 integers : 1  2  3  ...  100\n",
    "\n"
   ]
  },
  {
   "cell_type": "markdown",
   "id": "4a88c134",
   "metadata": {},
   "source": [
    "5. Write a program in Python language which asks the user to enter an integer number 'n' and to display whether this number is even or odd."
   ]
  },
  {
   "cell_type": "markdown",
   "id": "7e8e1159",
   "metadata": {},
   "source": [
    "6. Write a program in Python language that asks the user to enter their age and display the message \"you are major!\" if the typed age is greater than or equal to 18 and the message  \"you are a minor!\"  if the typed age is less than 18"
   ]
  },
  {
   "cell_type": "markdown",
   "id": "201ae238",
   "metadata": {},
   "source": [
    "7. Write a program in Python that asks the user to enter an integer n and display n!\n",
    "\n"
   ]
  },
  {
   "cell_type": "markdown",
   "id": "ec6d91a7",
   "metadata": {},
   "source": [
    "8. Write a program in Python that asks the user to enter the radius of a circle and return the area and perimeter"
   ]
  },
  {
   "cell_type": "markdown",
   "id": "f9b837cb",
   "metadata": {},
   "source": [
    "9. Write a program in Python that asks the user to enter an integer n and display him the multiplication with itself."
   ]
  },
  {
   "cell_type": "markdown",
   "id": "db894223",
   "metadata": {},
   "source": [
    "10. Write a program in Python that asks the user to enter a string and display only first two characters"
   ]
  },
  {
   "cell_type": "markdown",
   "id": "499a3cae",
   "metadata": {},
   "source": [
    "11.Given a list of numbers. write a program to turn every item of a list into its square.\n",
    "\n"
   ]
  },
  {
   "cell_type": "markdown",
   "id": "bc99d453",
   "metadata": {},
   "source": [
    "12.Write a program to add item 7000 after 6000 in the following Python List\n",
    "\n",
    "l = [100,500,412,123,6000]"
   ]
  },
  {
   "cell_type": "markdown",
   "id": "15b074dc",
   "metadata": {},
   "source": [
    "13.Write a program to find numbers greator than 50.\n",
    "l = [100,52,12,47,58,99,77,10,2,3,75]"
   ]
  },
  {
   "cell_type": "markdown",
   "id": "f4e05e9c",
   "metadata": {},
   "source": [
    "14 Replace list’s item 45 with 99\n",
    "l = [23,100,45,7,8,45]"
   ]
  },
  {
   "cell_type": "markdown",
   "id": "3f23513c",
   "metadata": {},
   "source": [
    "15.Print all the items in dictionary"
   ]
  },
  {
   "cell_type": "markdown",
   "id": "87b86f1b",
   "metadata": {},
   "source": [
    "16. Print all the values in dictionary having values more than 100\n",
    "d = {'alice': 80, 'Bob' : 125, 'Jane':525, 'smith': 21, 'steve':101}"
   ]
  },
  {
   "cell_type": "markdown",
   "id": "b3254859",
   "metadata": {},
   "source": [
    "17. Print First 10 natural numbers using while loop"
   ]
  },
  {
   "cell_type": "markdown",
   "id": "ab1a12dd",
   "metadata": {},
   "source": [
    "18. Python program to print all the even numbers within the given range."
   ]
  },
  {
   "cell_type": "markdown",
   "id": "52ac61b3",
   "metadata": {},
   "source": [
    " 19. Python program to calculate the sum of all numbers from 1 to a given number."
   ]
  },
  {
   "cell_type": "markdown",
   "id": "54fa2c09",
   "metadata": {},
   "source": [
    "20. Python program to calculate the sum of all the odd numbers within the given range."
   ]
  },
  {
   "cell_type": "markdown",
   "id": "53c50625",
   "metadata": {},
   "source": [
    "21. Python program to print a multiplication table of a given number"
   ]
  },
  {
   "cell_type": "markdown",
   "id": "2fb9d2b2",
   "metadata": {},
   "source": [
    "22. Python program to display numbers from a list using a for loop."
   ]
  },
  {
   "cell_type": "markdown",
   "id": "1280c7ee",
   "metadata": {},
   "source": [
    "23. Python program to count the number of even and odd numbers from a series of numbers."
   ]
  },
  {
   "cell_type": "markdown",
   "id": "0d28457a",
   "metadata": {},
   "source": [
    "24. # Python3 program to find simple interest\n",
    "#for given principal amount, time and\n",
    "#rate of interest.\n",
    "\n",
    "\n",
    "def simple_interest(p,t,r):\n",
    "\tprint('The principal is', p)\n",
    "\tprint('The time period is', t)\n",
    "\tprint('The rate of interest is',r)\n",
    "\t\n",
    "\tsi = (p * t * r)/100\n",
    "\t\n",
    "\tprint('The Simple Interest is', si)\n",
    "\treturn si\n",
    "\t\n",
    "#Driver code\n",
    "simple_interest(8, 6, 8)\n"
   ]
  },
  {
   "cell_type": "markdown",
   "id": "7f8818e4",
   "metadata": {},
   "source": [
    "25. # Python 3 code to find sum of elements in given array\n",
    "\n",
    "\n",
    "def _sum(arr):\n",
    "\n",
    "\t# initialize a variable\n",
    "\t# to store the sum\n",
    "\t# while iterating through\n",
    "\t# the array later\n",
    "\tsum = 0\n",
    "\n",
    "\t# iterate through the array\n",
    "\t# and add each element to the sum variable\n",
    "\t# one at a time\n",
    "\tfor i in arr:\n",
    "\t\tsum = sum + i\n",
    "\n",
    "\treturn(sum)\n",
    "\n"
   ]
  }
 ],
 "metadata": {
  "kernelspec": {
   "display_name": "Python 3 (ipykernel)",
   "language": "python",
   "name": "python3"
  },
  "language_info": {
   "codemirror_mode": {
    "name": "ipython",
    "version": 3
   },
   "file_extension": ".py",
   "mimetype": "text/x-python",
   "name": "python",
   "nbconvert_exporter": "python",
   "pygments_lexer": "ipython3",
   "version": "3.10.11"
  }
 },
 "nbformat": 4,
 "nbformat_minor": 5
}

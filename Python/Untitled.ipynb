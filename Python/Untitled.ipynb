{
 "cells": [
  {
   "cell_type": "code",
   "execution_count": 1,
   "id": "846b7b99",
   "metadata": {},
   "outputs": [],
   "source": [
    "user = \"Onkar\""
   ]
  },
  {
   "cell_type": "code",
   "execution_count": 2,
   "id": "060f7e6d",
   "metadata": {},
   "outputs": [
    {
     "name": "stdout",
     "output_type": "stream",
     "text": [
      "Welcome Onkar\n"
     ]
    }
   ],
   "source": [
    "print(f\"Welcome {user}\")"
   ]
  },
  {
   "cell_type": "code",
   "execution_count": 3,
   "id": "90c852e1",
   "metadata": {},
   "outputs": [
    {
     "data": {
      "text/plain": [
       "20"
      ]
     },
     "execution_count": 3,
     "metadata": {},
     "output_type": "execute_result"
    }
   ],
   "source": [
    "def addition(a,b):\n",
    "    return a + b\n",
    "\n",
    "c  = addition(10,10)\n",
    "c"
   ]
  },
  {
   "cell_type": "code",
   "execution_count": 6,
   "id": "807c1d13",
   "metadata": {},
   "outputs": [
    {
     "name": "stdout",
     "output_type": "stream",
     "text": [
      "a eqauls b\n"
     ]
    }
   ],
   "source": [
    "a = 20\n",
    "b = 20\n",
    "if a > b:\n",
    "    print(\"a greator than b\")\n",
    "elif b>a:\n",
    "    print(\"b greator than a\")\n",
    "else:\n",
    "    print(\"a eqauls b\")"
   ]
  },
  {
   "cell_type": "code",
   "execution_count": null,
   "id": "2f9906b3",
   "metadata": {},
   "outputs": [],
   "source": []
  }
 ],
 "metadata": {
  "kernelspec": {
   "display_name": "Python 3 (ipykernel)",
   "language": "python",
   "name": "python3"
  },
  "language_info": {
   "codemirror_mode": {
    "name": "ipython",
    "version": 3
   },
   "file_extension": ".py",
   "mimetype": "text/x-python",
   "name": "python",
   "nbconvert_exporter": "python",
   "pygments_lexer": "ipython3",
   "version": "3.10.11"
  }
 },
 "nbformat": 4,
 "nbformat_minor": 5
}

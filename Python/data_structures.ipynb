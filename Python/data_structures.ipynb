{
 "cells": [
  {
   "cell_type": "code",
   "execution_count": null,
   "id": "ec37b0f6",
   "metadata": {},
   "outputs": [],
   "source": [
    "# Lists >> Collection of different types of variables"
   ]
  },
  {
   "cell_type": "markdown",
   "id": "092551d6",
   "metadata": {},
   "source": [
    "Steps : \n",
    "1. Import Library\n",
    "2. Take user input\n",
    "3. Convert user input \n",
    "4. Make operations "
   ]
  },
  {
   "cell_type": "code",
   "execution_count": null,
   "id": "6fea6f2c",
   "metadata": {},
   "outputs": [],
   "source": [
    "import math"
   ]
  },
  {
   "cell_type": "markdown",
   "id": "447afdda",
   "metadata": {},
   "source": [
    "Lists are used to store multiple items in a single variable.\n",
    "\n",
    "List items are ordered, changeable, and allow duplicate values."
   ]
  },
  {
   "cell_type": "code",
   "execution_count": null,
   "id": "af081a3f",
   "metadata": {},
   "outputs": [],
   "source": [
    "l = [1,2.3, 'Alice',5,70,75]"
   ]
  },
  {
   "cell_type": "code",
   "execution_count": null,
   "id": "58e82552",
   "metadata": {},
   "outputs": [],
   "source": [
    "l"
   ]
  },
  {
   "cell_type": "code",
   "execution_count": null,
   "id": "3daff3f7",
   "metadata": {},
   "outputs": [],
   "source": [
    "t = [1,2,3,4,5,6]"
   ]
  },
  {
   "cell_type": "code",
   "execution_count": null,
   "id": "0384bb3f",
   "metadata": {},
   "outputs": [],
   "source": [
    "# -------------------------------XXXXXXXXXXXXXXXXXXXXXXXXXXXXXXXXXXXX------------------------------------"
   ]
  },
  {
   "cell_type": "code",
   "execution_count": null,
   "id": "d1300b85",
   "metadata": {},
   "outputs": [],
   "source": [
    "# Dictionaries"
   ]
  },
  {
   "cell_type": "markdown",
   "id": "f3150611",
   "metadata": {},
   "source": [
    "Dictionaries are used to store data values in key:value pairs.\n",
    "\n",
    "A dictionary is a collection which is ordered*, changeable and do not allow duplicates."
   ]
  },
  {
   "cell_type": "code",
   "execution_count": null,
   "id": "f60c3b21",
   "metadata": {},
   "outputs": [],
   "source": [
    "d = {'Alice':80,'Bob':70, 'Jane':98}"
   ]
  },
  {
   "cell_type": "code",
   "execution_count": null,
   "id": "34cbe327",
   "metadata": {},
   "outputs": [],
   "source": [
    "d"
   ]
  },
  {
   "cell_type": "code",
   "execution_count": null,
   "id": "44a70228",
   "metadata": {},
   "outputs": [],
   "source": [
    "e = dict(Alice =  80,Bob=70, Jane =  98)"
   ]
  },
  {
   "cell_type": "code",
   "execution_count": null,
   "id": "a55b8f22",
   "metadata": {},
   "outputs": [],
   "source": [
    "e"
   ]
  },
  {
   "cell_type": "code",
   "execution_count": null,
   "id": "4d041098",
   "metadata": {},
   "outputs": [],
   "source": [
    "# -----------------------XXXXXXXXXXXXXXXXXXXXXXX_-------------------------"
   ]
  },
  {
   "cell_type": "code",
   "execution_count": null,
   "id": "ad675ac1",
   "metadata": {},
   "outputs": [],
   "source": [
    "# Tuples"
   ]
  },
  {
   "cell_type": "markdown",
   "id": "0a023edd",
   "metadata": {},
   "source": [
    "Tuples are used to store multiple items in a single variable.\n",
    "\n",
    "A tuple is a collection which is ordered and unchangeable.\n",
    "\n",
    "Tuples are written with round brackets."
   ]
  },
  {
   "cell_type": "code",
   "execution_count": null,
   "id": "f4d46f65",
   "metadata": {},
   "outputs": [],
   "source": [
    "thistuple = (\"apple\", \"banana\", \"cherry\", \"apple\", \"cherry\")\n",
    "print(thistuple)"
   ]
  },
  {
   "cell_type": "code",
   "execution_count": null,
   "id": "53517783",
   "metadata": {},
   "outputs": [],
   "source": [
    "# --------------------XXXXXXXXXXXXXXXXXXXXXXXXXXX-------------------"
   ]
  },
  {
   "cell_type": "code",
   "execution_count": null,
   "id": "06785330",
   "metadata": {},
   "outputs": [],
   "source": [
    "# SET"
   ]
  },
  {
   "cell_type": "markdown",
   "id": "8f291fd9",
   "metadata": {},
   "source": [
    "Sets are used to store multiple items in a single variable.\n",
    "\n",
    "A set is a collection which is unordered, unchangeable*, and unindexed."
   ]
  },
  {
   "cell_type": "code",
   "execution_count": null,
   "id": "1a6f33b9",
   "metadata": {},
   "outputs": [],
   "source": [
    "thisset = {1,1.2,\"apple\", \"banana\", \"cherry\",'mango'}\n",
    "print(thisset)"
   ]
  },
  {
   "cell_type": "code",
   "execution_count": null,
   "id": "f024e2f6",
   "metadata": {},
   "outputs": [],
   "source": [
    "th = {\"apple\", \"banana\", \"cherry\",'mango','mango'}\n"
   ]
  },
  {
   "cell_type": "code",
   "execution_count": null,
   "id": "a9e20938",
   "metadata": {},
   "outputs": [],
   "source": [
    "th"
   ]
  },
  {
   "cell_type": "code",
   "execution_count": null,
   "id": "44973508",
   "metadata": {},
   "outputs": [],
   "source": []
  },
  {
   "cell_type": "code",
   "execution_count": null,
   "id": "a5fd4c69",
   "metadata": {},
   "outputs": [],
   "source": []
  }
 ],
 "metadata": {
  "kernelspec": {
   "display_name": "Python 3 (ipykernel)",
   "language": "python",
   "name": "python3"
  },
  "language_info": {
   "codemirror_mode": {
    "name": "ipython",
    "version": 3
   },
   "file_extension": ".py",
   "mimetype": "text/x-python",
   "name": "python",
   "nbconvert_exporter": "python",
   "pygments_lexer": "ipython3",
   "version": "3.10.11"
  }
 },
 "nbformat": 4,
 "nbformat_minor": 5
}

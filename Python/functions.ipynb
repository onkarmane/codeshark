{
 "cells": [
  {
   "cell_type": "markdown",
   "id": "a1359da5",
   "metadata": {},
   "source": [
    "# Functions"
   ]
  },
  {
   "cell_type": "raw",
   "id": "ce498d4b",
   "metadata": {},
   "source": [
    "1. Define function\n",
    "2. Pass parameters (not compulsory)\n",
    "3. Perform operations (loops, conditions data structures etc)\n",
    "4. write return statement\n",
    "5. call the function"
   ]
  },
  {
   "cell_type": "markdown",
   "id": "a2914a0b",
   "metadata": {},
   "source": [
    "# We will create our first app/ Mini project\n",
    "We will use operations, if-else and function\n",
    "What our app do:\n",
    "It takes two numbers from user a,b.\n",
    "It ask user for the operation (addition, suntraction, multliplication, divivsion, exponential)\n",
    "It will return the result asked by user.\n",
    "\n",
    "\n"
   ]
  },
  {
   "cell_type": "code",
   "execution_count": null,
   "id": "9c1489b4",
   "metadata": {},
   "outputs": [],
   "source": [
    "# Step 1 Define Function \n",
    "def calc(a,b,operation):  # pass parameters\n",
    "    if operation == 'add':\n",
    "        c = a+b             #operations\n",
    "    elif operation == 'sub':\n",
    "        c = a-b\n",
    "    elif operation == 'div':\n",
    "        c = a/b\n",
    "    elif operation == 'mul':\n",
    "        c = a*b\n",
    "    elif operation == 'expo':\n",
    "        c = a**b\n",
    "    return c               #return statement\n",
    "    \n",
    "    "
   ]
  },
  {
   "cell_type": "code",
   "execution_count": null,
   "id": "2ca48129",
   "metadata": {},
   "outputs": [],
   "source": [
    "a,b, operation = input(\"Enter a,b and operation : \").split()\n",
    "a = int(a)\n",
    "b = int(b)\n",
    "output = calc(a,b,operation)  #Call function\n",
    "print(output)"
   ]
  },
  {
   "cell_type": "code",
   "execution_count": null,
   "id": "dd226d9d",
   "metadata": {},
   "outputs": [],
   "source": []
  }
 ],
 "metadata": {
  "kernelspec": {
   "display_name": "Python 3 (ipykernel)",
   "language": "python",
   "name": "python3"
  },
  "language_info": {
   "codemirror_mode": {
    "name": "ipython",
    "version": 3
   },
   "file_extension": ".py",
   "mimetype": "text/x-python",
   "name": "python",
   "nbconvert_exporter": "python",
   "pygments_lexer": "ipython3",
   "version": "3.10.11"
  }
 },
 "nbformat": 4,
 "nbformat_minor": 5
}

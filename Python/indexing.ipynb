{
 "cells": [
  {
   "cell_type": "markdown",
   "id": "0282dc8a",
   "metadata": {},
   "source": [
    "# Indexing"
   ]
  },
  {
   "cell_type": "code",
   "execution_count": null,
   "id": "0867e0b9",
   "metadata": {},
   "outputs": [],
   "source": [
    "l = [27,35,47,101,66,7,96,10,23,42]"
   ]
  },
  {
   "cell_type": "code",
   "execution_count": null,
   "id": "bebfc8e3",
   "metadata": {},
   "outputs": [],
   "source": [
    "l[0]"
   ]
  },
  {
   "cell_type": "code",
   "execution_count": null,
   "id": "8931c208",
   "metadata": {},
   "outputs": [],
   "source": [
    "l[1]"
   ]
  },
  {
   "cell_type": "code",
   "execution_count": null,
   "id": "5294db17",
   "metadata": {},
   "outputs": [],
   "source": [
    "l[2]"
   ]
  },
  {
   "cell_type": "raw",
   "id": "8670ce5f",
   "metadata": {},
   "source": [
    "If I want only first few numbers ??? "
   ]
  },
  {
   "cell_type": "code",
   "execution_count": null,
   "id": "9c9a6e5c",
   "metadata": {},
   "outputs": [],
   "source": [
    "# Method 1"
   ]
  },
  {
   "cell_type": "code",
   "execution_count": null,
   "id": "fae4dcda",
   "metadata": {},
   "outputs": [],
   "source": [
    "l[0],l[1],l[2],l[3]"
   ]
  },
  {
   "cell_type": "code",
   "execution_count": null,
   "id": "61404c78",
   "metadata": {},
   "outputs": [],
   "source": [
    "# Method 2"
   ]
  },
  {
   "cell_type": "code",
   "execution_count": null,
   "id": "a4df4768",
   "metadata": {},
   "outputs": [],
   "source": [
    "l[0:4]"
   ]
  },
  {
   "cell_type": "code",
   "execution_count": null,
   "id": "7434507e",
   "metadata": {},
   "outputs": [],
   "source": [
    "# For strings"
   ]
  },
  {
   "cell_type": "code",
   "execution_count": null,
   "id": "51149742",
   "metadata": {},
   "outputs": [],
   "source": [
    "s = \"Codeshark\""
   ]
  },
  {
   "cell_type": "code",
   "execution_count": null,
   "id": "9162d273",
   "metadata": {},
   "outputs": [],
   "source": [
    "s[0]"
   ]
  },
  {
   "cell_type": "code",
   "execution_count": null,
   "id": "d21dbb9e",
   "metadata": {},
   "outputs": [],
   "source": [
    "s[1]"
   ]
  },
  {
   "cell_type": "code",
   "execution_count": null,
   "id": "be305c10",
   "metadata": {},
   "outputs": [],
   "source": [
    "# I want only \"Code\""
   ]
  },
  {
   "cell_type": "code",
   "execution_count": null,
   "id": "92c6f9c2",
   "metadata": {},
   "outputs": [],
   "source": [
    "s[0:4]"
   ]
  },
  {
   "cell_type": "code",
   "execution_count": null,
   "id": "d3193c47",
   "metadata": {},
   "outputs": [],
   "source": [
    "#Tuples"
   ]
  },
  {
   "cell_type": "code",
   "execution_count": null,
   "id": "4303f135",
   "metadata": {},
   "outputs": [],
   "source": [
    "g = (1,2,3,4)"
   ]
  },
  {
   "cell_type": "code",
   "execution_count": null,
   "id": "198ce9cf",
   "metadata": {},
   "outputs": [],
   "source": [
    "g[0]"
   ]
  },
  {
   "cell_type": "code",
   "execution_count": null,
   "id": "ba0f1b7a",
   "metadata": {},
   "outputs": [],
   "source": [
    "g[1:3]"
   ]
  },
  {
   "cell_type": "code",
   "execution_count": null,
   "id": "72a97bf0",
   "metadata": {},
   "outputs": [],
   "source": [
    "# For dictionaries little different"
   ]
  },
  {
   "cell_type": "code",
   "execution_count": null,
   "id": "4544ed20",
   "metadata": {},
   "outputs": [],
   "source": [
    "d = {'Alice':80,'Bob':70, 'Jane':98}\n"
   ]
  },
  {
   "cell_type": "markdown",
   "id": "e0adfe70",
   "metadata": {},
   "source": [
    "# Access the dict values by using keys"
   ]
  },
  {
   "cell_type": "code",
   "execution_count": null,
   "id": "c54b8c0c",
   "metadata": {},
   "outputs": [],
   "source": [
    "d['Alice']"
   ]
  },
  {
   "cell_type": "code",
   "execution_count": null,
   "id": "30e88b10",
   "metadata": {},
   "outputs": [],
   "source": [
    "d['Bob']"
   ]
  },
  {
   "cell_type": "code",
   "execution_count": null,
   "id": "8ca54077",
   "metadata": {},
   "outputs": [],
   "source": [
    "d.keys()"
   ]
  },
  {
   "cell_type": "code",
   "execution_count": null,
   "id": "30b7bce1",
   "metadata": {},
   "outputs": [],
   "source": [
    "d.values()"
   ]
  },
  {
   "cell_type": "code",
   "execution_count": null,
   "id": "c7fd1ec3",
   "metadata": {},
   "outputs": [],
   "source": []
  }
 ],
 "metadata": {
  "kernelspec": {
   "display_name": "Python 3 (ipykernel)",
   "language": "python",
   "name": "python3"
  },
  "language_info": {
   "codemirror_mode": {
    "name": "ipython",
    "version": 3
   },
   "file_extension": ".py",
   "mimetype": "text/x-python",
   "name": "python",
   "nbconvert_exporter": "python",
   "pygments_lexer": "ipython3",
   "version": "3.10.11"
  }
 },
 "nbformat": 4,
 "nbformat_minor": 5
}

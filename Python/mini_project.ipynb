{
 "cells": [
  {
   "cell_type": "markdown",
   "id": "5d55f562",
   "metadata": {},
   "source": [
    "# Mini - Project\n",
    "\n",
    "Here's a Python mini-project that creates a function to find and count the occurrences of each word in a given sentence:\n",
    "For E.g \n",
    "s = \"Hello CodeShark I am coder at CodeShark I learn ML at CodeShark\"\n",
    "output ????#"
   ]
  },
  {
   "cell_type": "code",
   "execution_count": null,
   "id": "bd7d9f71",
   "metadata": {},
   "outputs": [],
   "source": [
    "def count_words(sentence):\n",
    "    \n",
    "    # Initialize an empty dictionary to store word counts\n",
    "    word_count = {}\n",
    "    \n",
    "    # Loop through each word in the list and count occurrences\n",
    "    for word in sentence:\n",
    "        if word in word_count:\n",
    "            word_count[word] += 1\n",
    "        else:\n",
    "            word_count[word] = 1\n",
    "    \n",
    "    return word_count\n"
   ]
  },
  {
   "cell_type": "code",
   "execution_count": null,
   "id": "7fa9c6d0",
   "metadata": {},
   "outputs": [],
   "source": [
    "# Example usage:\n",
    "sentence = [\"Hello\", \"CodeShark\", \"I\", \"am\", \"coder\", \"at\", \"CodeShark\", \"I\", \"learn\", \"ML\", \"at\", \"Codeshark\"]\n",
    "result = count_words(sentence)\n",
    "print(f\"The final result is {result}\")"
   ]
  }
 ],
 "metadata": {
  "kernelspec": {
   "display_name": "Python 3 (ipykernel)",
   "language": "python",
   "name": "python3"
  },
  "language_info": {
   "codemirror_mode": {
    "name": "ipython",
    "version": 3
   },
   "file_extension": ".py",
   "mimetype": "text/x-python",
   "name": "python",
   "nbconvert_exporter": "python",
   "pygments_lexer": "ipython3",
   "version": "3.10.11"
  }
 },
 "nbformat": 4,
 "nbformat_minor": 5
}

{
 "cells": [
  {
   "cell_type": "code",
   "execution_count": null,
   "id": "2d6f1ff1",
   "metadata": {},
   "outputs": [],
   "source": [
    "# Question 1"
   ]
  },
  {
   "cell_type": "code",
   "execution_count": 1,
   "id": "1af0b489",
   "metadata": {},
   "outputs": [
    {
     "name": "stdout",
     "output_type": "stream",
     "text": [
      "Enter the nameOnkar\n"
     ]
    }
   ],
   "source": [
    "user  = input(\"Enter the name \")"
   ]
  },
  {
   "cell_type": "code",
   "execution_count": 2,
   "id": "6d5f2c91",
   "metadata": {},
   "outputs": [
    {
     "name": "stdout",
     "output_type": "stream",
     "text": [
      "Hello Onkar!!! Welcome to DYPCET\n"
     ]
    }
   ],
   "source": [
    "print(f\"Hello {user}!!! Welcome to DYPCET\")"
   ]
  },
  {
   "cell_type": "code",
   "execution_count": null,
   "id": "215b8b53",
   "metadata": {},
   "outputs": [],
   "source": [
    "Question 2"
   ]
  },
  {
   "cell_type": "code",
   "execution_count": null,
   "id": "375a1cc8",
   "metadata": {},
   "outputs": [],
   "source": [
    "# 3. Write a program in Python that asks the user to enter two numbers a and b and display their maximum.\n"
   ]
  },
  {
   "cell_type": "code",
   "execution_count": 6,
   "id": "89ece0a2",
   "metadata": {},
   "outputs": [
    {
     "name": "stdout",
     "output_type": "stream",
     "text": [
      "Enter 2 numbers : 14 14\n"
     ]
    }
   ],
   "source": [
    "a,b = (input(\"Enter 2 numbers : \")).split()"
   ]
  },
  {
   "cell_type": "code",
   "execution_count": 8,
   "id": "abe7c33b",
   "metadata": {},
   "outputs": [],
   "source": [
    "a = int(a)\n",
    "b = int(b)\n"
   ]
  },
  {
   "cell_type": "code",
   "execution_count": 12,
   "id": "f4d29216",
   "metadata": {},
   "outputs": [
    {
     "name": "stdout",
     "output_type": "stream",
     "text": [
      "b equal to a\n"
     ]
    }
   ],
   "source": [
    "if a > b:\n",
    "    print(\"a greator than b\")\n",
    "elif b > a:\n",
    "    print(\"b greator than a\")\n",
    "else:\n",
    "    print(\"b equal to a\")"
   ]
  },
  {
   "cell_type": "code",
   "execution_count": null,
   "id": "10366157",
   "metadata": {},
   "outputs": [],
   "source": [
    "# 5. Write a program in Python language which asks the user to enter \n",
    "# an integer number 'n' and to display whether this number is even or odd."
   ]
  },
  {
   "cell_type": "code",
   "execution_count": 18,
   "id": "856b3135",
   "metadata": {},
   "outputs": [
    {
     "name": "stdout",
     "output_type": "stream",
     "text": [
      "Enter a number : 13\n"
     ]
    }
   ],
   "source": [
    "no = int(input(\"Enter a number : \"))"
   ]
  },
  {
   "cell_type": "code",
   "execution_count": 19,
   "id": "980fc5e4",
   "metadata": {},
   "outputs": [
    {
     "name": "stdout",
     "output_type": "stream",
     "text": [
      "Odd\n"
     ]
    }
   ],
   "source": [
    "if no%2 == 0:\n",
    "    print(\"Even\")\n",
    "else:\n",
    "    print(\"Odd\")"
   ]
  },
  {
   "cell_type": "code",
   "execution_count": 21,
   "id": "b338895e",
   "metadata": {},
   "outputs": [],
   "source": [
    "# 12.Write a program to add item 7000 after 6000 in the following Python List\n",
    "\n",
    "# l = [100,500,412,123,6000]"
   ]
  },
  {
   "cell_type": "code",
   "execution_count": 22,
   "id": "c21376b8",
   "metadata": {},
   "outputs": [],
   "source": [
    "# 13.Write a program to find numbers greator than 50.\n",
    "# l = [100,52,12,47,58,99,77,10,2,3,75]"
   ]
  },
  {
   "cell_type": "code",
   "execution_count": null,
   "id": "417f0d5d",
   "metadata": {},
   "outputs": [],
   "source": []
  }
 ],
 "metadata": {
  "kernelspec": {
   "display_name": "Python 3 (ipykernel)",
   "language": "python",
   "name": "python3"
  },
  "language_info": {
   "codemirror_mode": {
    "name": "ipython",
    "version": 3
   },
   "file_extension": ".py",
   "mimetype": "text/x-python",
   "name": "python",
   "nbconvert_exporter": "python",
   "pygments_lexer": "ipython3",
   "version": "3.10.11"
  }
 },
 "nbformat": 4,
 "nbformat_minor": 5
}
